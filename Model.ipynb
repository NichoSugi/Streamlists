{
 "cells": [
  {
   "cell_type": "code",
   "execution_count": 1,
   "metadata": {},
   "outputs": [],
   "source": [
    "from ModelUTS import ChurnPredictionModel"
   ]
  },
  {
   "cell_type": "code",
   "execution_count": 2,
   "metadata": {},
   "outputs": [
    {
     "name": "stderr",
     "output_type": "stream",
     "text": [
      "e:\\Kuliah\\Model Deployment\\UTS\\ModelUTS.py:23: FutureWarning: A value is trying to be set on a copy of a DataFrame or Series through chained assignment using an inplace method.\n",
      "The behavior will change in pandas 3.0. This inplace method will never work because the intermediate object on which we are setting values always behaves as a copy.\n",
      "\n",
      "For example, when doing 'df[col].method(value, inplace=True)', try using 'df.method({col: value}, inplace=True)' or df[col] = df[col].method(value) instead, to perform the operation inplace on the original object.\n",
      "\n",
      "\n",
      "  self.df['CreditScore'].fillna(median_credit_score, inplace=True)\n",
      "e:\\Kuliah\\Model Deployment\\UTS\\ModelUTS.py:26: FutureWarning: Downcasting behavior in `replace` is deprecated and will be removed in a future version. To retain the old behavior, explicitly call `result.infer_objects(copy=False)`. To opt-in to the future behavior, set `pd.set_option('future.no_silent_downcasting', True)`\n",
      "  self.df['Gender'] = self.df['Gender'].replace({'Female': 0, 'Male': 1})\n"
     ]
    }
   ],
   "source": [
    "model = ChurnPredictionModel('data_C.csv')"
   ]
  },
  {
   "cell_type": "code",
   "execution_count": 3,
   "metadata": {},
   "outputs": [],
   "source": [
    "# Train models\n",
    "model.train_random_forest()\n",
    "model.train_xgboost()\n"
   ]
  },
  {
   "cell_type": "code",
   "execution_count": 4,
   "metadata": {},
   "outputs": [
    {
     "name": "stdout",
     "output_type": "stream",
     "text": [
      "\n",
      "Random Forest Classification Report:\n",
      "\n",
      "              precision    recall  f1-score   support\n",
      "\n",
      "           0       0.83      0.82      0.82      6552\n",
      "           1       0.82      0.83      0.82      6412\n",
      "\n",
      "    accuracy                           0.82     12964\n",
      "   macro avg       0.82      0.82      0.82     12964\n",
      "weighted avg       0.82      0.82      0.82     12964\n",
      "\n",
      "\n",
      "XGBoost Classification Report:\n",
      "\n",
      "              precision    recall  f1-score   support\n",
      "\n",
      "           0       0.88      0.91      0.89      6552\n",
      "           1       0.90      0.87      0.89      6412\n",
      "\n",
      "    accuracy                           0.89     12964\n",
      "   macro avg       0.89      0.89      0.89     12964\n",
      "weighted avg       0.89      0.89      0.89     12964\n",
      "\n"
     ]
    }
   ],
   "source": [
    "# Evaluate models\n",
    "model.evaluate_models()"
   ]
  }
 ],
 "metadata": {
  "kernelspec": {
   "display_name": "Python 3",
   "language": "python",
   "name": "python3"
  },
  "language_info": {
   "codemirror_mode": {
    "name": "ipython",
    "version": 3
   },
   "file_extension": ".py",
   "mimetype": "text/x-python",
   "name": "python",
   "nbconvert_exporter": "python",
   "pygments_lexer": "ipython3",
   "version": "3.11.1"
  }
 },
 "nbformat": 4,
 "nbformat_minor": 2
}
